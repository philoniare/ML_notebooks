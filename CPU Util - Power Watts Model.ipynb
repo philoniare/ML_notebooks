{
 "cells": [
  {
   "cell_type": "markdown",
   "metadata": {},
   "source": [
    "#### Importing the data and necessary libraries"
   ]
  },
  {
   "cell_type": "code",
   "execution_count": 2,
   "metadata": {
    "collapsed": false
   },
   "outputs": [],
   "source": [
    "import numpy as np\n",
    "from sklearn.svm import SVR\n",
    "exp_data = np.genfromtxt('input_data_train.csv', delimiter=',')\n",
    "inp_train, label_train = exp_data[:,0], exp_data[:,1]"
   ]
  },
  {
   "cell_type": "code",
   "execution_count": 3,
   "metadata": {
    "collapsed": false
   },
   "outputs": [],
   "source": [
    "validation_data = np.genfromtxt('validation_data_test.csv', delimiter=',')\n",
    "inp_test, label_test = validation_data[:,0], validation_data[:,1]"
   ]
  },
  {
   "cell_type": "markdown",
   "metadata": {},
   "source": [
    "#### Fitting and Validating an SVR Model"
   ]
  },
  {
   "cell_type": "code",
   "execution_count": 4,
   "metadata": {
    "collapsed": false
   },
   "outputs": [
    {
     "name": "stdout",
     "output_type": "stream",
     "text": [
      "Residual sum of squares: 3929.51\n",
      "Coefficient of determination R^2 of the prediction: 0.84\n"
     ]
    }
   ],
   "source": [
    "clf = SVR(C=1.0, epsilon=0.2)\n",
    "inp_train = inp_train.reshape(-1, 1)\n",
    "inp_test = inp_test.reshape(-1, 1)\n",
    "clf.fit(inp_train, label_train)\n",
    "print(\"Residual sum of squares: %.2f\" % np.mean((clf.predict(inp_test) - label_test) ** 2))\n",
    "print(\"Coefficient of determination R^2 of the prediction: %.2f\" % clf.score(inp_test, label_test))"
   ]
  },
  {
   "cell_type": "markdown",
   "metadata": {},
   "source": [
    "#### Fitting and Validating a Linear Regression Model"
   ]
  },
  {
   "cell_type": "code",
   "execution_count": 5,
   "metadata": {
    "collapsed": false
   },
   "outputs": [
    {
     "name": "stdout",
     "output_type": "stream",
     "text": [
      "Residual sum of squares: 2938.93\n",
      "Coefficient of determination R^2 of the prediction: 0.88\n"
     ]
    }
   ],
   "source": [
    "from sklearn import datasets, linear_model\n",
    "regr = linear_model.LinearRegression()\n",
    "regr.fit(inp_train, label_train)\n",
    "print(\"Residual sum of squares: %.2f\" % np.mean((regr.predict(inp_test) - label_test) ** 2))\n",
    "print(\"Coefficient of determination R^2 of the prediction: %.2f\" % regr.score(inp_test, label_test))"
   ]
  },
  {
   "cell_type": "markdown",
   "metadata": {},
   "source": [
    "#### Fitting a Polynomial Regression"
   ]
  },
  {
   "cell_type": "code",
   "execution_count": 6,
   "metadata": {
    "collapsed": false
   },
   "outputs": [
    {
     "name": "stdout",
     "output_type": "stream",
     "text": [
      "Residual sum of squares: 2474.93\n",
      "Coefficient of determination R^2 of the prediction: 0.90\n"
     ]
    }
   ],
   "source": [
    "from sklearn.linear_model import Ridge\n",
    "from sklearn.preprocessing import PolynomialFeatures\n",
    "from sklearn.pipeline import make_pipeline\n",
    "\n",
    "degree = 2 # had the best results\n",
    "polynomial_model = make_pipeline(PolynomialFeatures(degree), Ridge())\n",
    "polynomial_model.fit(inp_train, label_train)\n",
    "print(\"Residual sum of squares: %.2f\" % np.mean((polynomial_model.predict(inp_test) - label_test) ** 2))\n",
    "print(\"Coefficient of determination R^2 of the prediction: %.2f\" % polynomial_model.score(inp_test, label_test))"
   ]
  },
  {
   "cell_type": "markdown",
   "metadata": {},
   "source": [
    "#### Validating the Model with an Experiment running different utilizations for each core"
   ]
  },
  {
   "cell_type": "code",
   "execution_count": 37,
   "metadata": {
    "collapsed": false
   },
   "outputs": [
    {
     "name": "stdout",
     "output_type": "stream",
     "text": [
      "Residual sum of squares for regression: 2467.31\n",
      "Coefficient of determination R^2 of the prediction for regression: 0.76\n"
     ]
    }
   ],
   "source": [
    "final_validation = np.genfromtxt('final_validation_test.csv', delimiter=',')\n",
    "inp_test1, label_test1 = final_validation[:,0], final_validation[:,1]\n",
    "inp_test1 = inp_test1.reshape(-1, 1)\n",
    "print(\"Residual sum of squares for regression: %.2f\" % np.mean((regr.predict(inp_test1) - label_test1) ** 2))\n",
    "print(\"Coefficient of determination R^2 of the prediction for regression: %.2f\" % regr.score(inp_test1, label_test1))"
   ]
  },
  {
   "cell_type": "code",
   "execution_count": 39,
   "metadata": {
    "collapsed": false
   },
   "outputs": [
    {
     "name": "stdout",
     "output_type": "stream",
     "text": [
      "Residual sum of squares for SVR: 2112.20\n",
      "Coefficient of determination R^2 of the prediction for SVR: 0.79\n"
     ]
    }
   ],
   "source": [
    "print(\"Residual sum of squares for SVR: %.2f\" % np.mean((clf.predict(inp_test1) - label_test1) ** 2))\n",
    "print(\"Coefficient of determination R^2 of the prediction for SVR: %.2f\" % clf.score(inp_test1, label_test1))"
   ]
  },
  {
   "cell_type": "code",
   "execution_count": 55,
   "metadata": {
    "collapsed": false
   },
   "outputs": [
    {
     "name": "stdout",
     "output_type": "stream",
     "text": [
      "Residual sum of squares: 1853.50\n",
      "Coefficient of determination R^2 of the prediction: 0.82\n"
     ]
    }
   ],
   "source": [
    "print(\"Residual sum of squares: %.2f\" % np.mean((polynomial_model.predict(inp_test1) - label_test1) ** 2))\n",
    "print(\"Coefficient of determination R^2 of the prediction: %.2f\" % polynomial_model.score(inp_test1, label_test1))"
   ]
  },
  {
   "cell_type": "markdown",
   "metadata": {},
   "source": [
    "#### Conclusion\n",
    "The Polynomial Regression has had the best predictions. It was able to perform with .90% R^2 and Residual sum of squares of 2474.93 on the validation experiments with all 8 cores running under the same utilization. And it was able to predict a validation test data with .82 R^2 for an experiment with 8 cores running under different utilizations. "
   ]
  }
 ],
 "metadata": {
  "kernelspec": {
   "display_name": "Python 3",
   "language": "python",
   "name": "python3"
  },
  "language_info": {
   "codemirror_mode": {
    "name": "ipython",
    "version": 3
   },
   "file_extension": ".py",
   "mimetype": "text/x-python",
   "name": "python",
   "nbconvert_exporter": "python",
   "pygments_lexer": "ipython3",
   "version": "3.5.1"
  }
 },
 "nbformat": 4,
 "nbformat_minor": 0
}
